{
 "cells": [
  {
   "cell_type": "code",
   "execution_count": null,
   "id": "f1484931-47b9-494a-b894-11461fc6241a",
   "metadata": {},
   "outputs": [
    {
     "name": "stderr",
     "output_type": "stream",
     "text": [
      " 74%|███████▍  | 2071/2787 [00:27<00:10, 69.19it/s]"
     ]
    }
   ],
   "source": [
    "\n",
    "import duckdb\n",
    "\n",
    "# Connect to a new DuckDB file in your working folder\n",
    "con = duckdb.connect('gsod_ph.db')\n",
    "\n",
    "# Create gsod_daily table (simplified example)\n",
    "con.execute(\"\"\"\n",
    "CREATE TABLE IF NOT EXISTS gsod_daily (\n",
    "    station_id VARCHAR,\n",
    "    station_name VARCHAR,\n",
    "    date DATE,\n",
    "    TEMP_C FLOAT,\n",
    "    DEWP_C FLOAT,\n",
    "    MAX_C FLOAT,\n",
    "    MIN_C FLOAT,\n",
    "    PRCP_mm FLOAT,\n",
    "    WDSP_ms FLOAT,\n",
    "    MXSPD_ms FLOAT,\n",
    "    GUST_ms FLOAT,\n",
    "    SLP FLOAT\n",
    ");\n",
    "\"\"\")\n",
    "\n",
    "\n",
    "from pathlib import Path\n",
    "import pandas as pd\n",
    "from tqdm import tqdm\n",
    "\n",
    "# Folder containing your cleaned Parquet files\n",
    "parquet_folder = Path('./gsod_ph_cleaned')\n",
    "stations_ph = pd.read_csv('isd-history-ph.csv', dtype=str)\n",
    "stations_ph.columns = stations_ph.columns.str.strip()\n",
    "\n",
    "# Get all files\n",
    "parquet_files = sorted(parquet_folder.glob('*.parquet'))\n",
    "\n",
    "for parquet_file in tqdm(parquet_files):\n",
    "    df = pd.read_parquet(parquet_file)\n",
    "\n",
    "    # Extract station_id from filename: e.g., \"2020_98427099999.parquet\"\n",
    "    station_id = parquet_file.stem.split('_')[1]\n",
    "\n",
    "    # Add station_id column\n",
    "    # df['station_id'] = station_id\n",
    "\n",
    "    # Extract USAF and WBAN\n",
    "    usaf = station_id[:6]\n",
    "    wban = station_id[6:]\n",
    "\n",
    "    # Lookup station metadata\n",
    "    station_meta = stations_ph[\n",
    "        (stations_ph['USAF'].str.strip() == usaf) & \n",
    "        (stations_ph['WBAN'].str.strip() == wban)\n",
    "    ].iloc[0]\n",
    "\n",
    "    df['station_id'] = station_id\n",
    "    df['station_name'] = station_meta['STATION NAME']\n",
    "\n",
    "    \n",
    "    # Select only required columns and rename if needed\n",
    "    # df_to_insert = df[['station_id', 'DATE', 'TEMP_C', 'DEWP_C', 'MAX_C', 'MIN_C', \n",
    "                       # 'PRCP_mm', 'WDSP_ms', 'MXSPD_ms', 'GUST_ms', 'SLP']].copy()\n",
    "    df_to_insert = df[['station_id', 'station_name', 'DATE', 'TEMP_C', 'DEWP_C', 'MAX_C', 'MIN_C', \n",
    "                   'PRCP_mm', 'WDSP_ms', 'MXSPD_ms', 'GUST_ms', 'SLP']].copy()\n",
    "\n",
    "    df_to_insert.columns = [col.lower() for col in df_to_insert.columns]  # match SQL casing\n",
    "\n",
    "    # Insert into DuckDB\n",
    "    con.execute(\"INSERT INTO gsod_daily SELECT * FROM df_to_insert\")\n"
   ]
  },
  {
   "cell_type": "code",
   "execution_count": 13,
   "id": "0f5ad2d0-22ed-4375-9668-b895b096fed3",
   "metadata": {},
   "outputs": [],
   "source": [
    "con.close()  # In your Python script\n"
   ]
  },
  {
   "cell_type": "code",
   "execution_count": 7,
   "id": "05030151-eef8-42be-af25-7909b2ce5db1",
   "metadata": {},
   "outputs": [
    {
     "data": {
      "text/plain": [
       "<duckdb.duckdb.DuckDBPyConnection at 0x7d94aadcf7b0>"
      ]
     },
     "execution_count": 7,
     "metadata": {},
     "output_type": "execute_result"
    }
   ],
   "source": [
    "# import duckdb\n",
    "# import pandas as pd\n",
    "\n",
    "# con = duckdb.connect('gsod-ph.db')\n",
    "\n",
    "# # Load station metadata\n",
    "# stations_df = pd.read_csv('isd-history-ph.csv', dtype=str)\n",
    "\n",
    "# # Combine USAF + WBAN into station_id to match gsod_daily\n",
    "# stations_df['station_id'] = stations_df['USAF'].str.strip() + stations_df['WBAN'].str.strip()\n",
    "\n",
    "# # Keep only what you need\n",
    "# stations_df = stations_df[['station_id', 'STATION NAME', 'CTRY', 'LAT', 'LON', 'ELEV(M)']].rename(columns={\n",
    "#     'STATIONNAME': 'station_name',\n",
    "#     'LAT': 'lat',\n",
    "#     'LON': 'lon',\n",
    "#     'ELEV(M)': 'elevation_m'\n",
    "# })\n",
    "\n",
    "# # Create stations table\n",
    "# con.execute(\"\"\"\n",
    "# CREATE TABLE IF NOT EXISTS stations (\n",
    "#     station_id VARCHAR PRIMARY KEY,\n",
    "#     station_name VARCHAR,\n",
    "#     CTRY VARCHAR,\n",
    "#     lat FLOAT,\n",
    "#     lon FLOAT,\n",
    "#     elevation_m FLOAT\n",
    "# );\n",
    "# \"\"\")\n",
    "\n",
    "# # Insert using pandas (DuckDB supports FROM df directly)\n",
    "# con.execute(\"INSERT INTO stations SELECT * FROM stations_df\")\n"
   ]
  },
  {
   "cell_type": "code",
   "execution_count": 8,
   "id": "396eafae-8314-455b-8bc6-822e67754104",
   "metadata": {},
   "outputs": [],
   "source": []
  }
 ],
 "metadata": {
  "kernelspec": {
   "display_name": "GSOD DuckDB",
   "language": "python",
   "name": "gsod-duckdb"
  },
  "language_info": {
   "codemirror_mode": {
    "name": "ipython",
    "version": 3
   },
   "file_extension": ".py",
   "mimetype": "text/x-python",
   "name": "python",
   "nbconvert_exporter": "python",
   "pygments_lexer": "ipython3",
   "version": "3.11.13"
  }
 },
 "nbformat": 4,
 "nbformat_minor": 5
}
