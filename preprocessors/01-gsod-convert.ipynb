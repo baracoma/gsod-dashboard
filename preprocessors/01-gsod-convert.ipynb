{
 "cells": [
  {
   "cell_type": "code",
   "execution_count": 5,
   "id": "3eff8c0e-5b5a-47f1-b43d-8f6538c3d95f",
   "metadata": {},
   "outputs": [],
   "source": [
    "import pandas as pd\n",
    "import os\n",
    "import glob\n",
    "from pathlib import Path\n",
    "from tqdm.auto import tqdm\n",
    "\n",
    "import numpy as np"
   ]
  },
  {
   "cell_type": "code",
   "execution_count": 3,
   "id": "fa6840b2-d243-4bb5-aa64-ccd1ea0fc384",
   "metadata": {},
   "outputs": [],
   "source": [
    "\n",
    "def format_gsod_full(gsod_df):\n",
    "    \"\"\"Clean and convert all core GSOD columns.\"\"\"\n",
    "    # Ensure all columns are numeric first\n",
    "    cols_to_numeric = ['TEMP', 'DEWP', 'MAX', 'MIN', 'PRCP', 'WDSP', 'MXSPD', 'GUST', 'SLP']\n",
    "    for col in cols_to_numeric:\n",
    "        if col in gsod_df.columns:\n",
    "            gsod_df[col] = pd.to_numeric(gsod_df[col], errors='coerce')\n",
    "\n",
    "    # Temperature (°F → °C), invalid flags handled\n",
    "    temp_cols = ['TEMP', 'DEWP', 'MAX', 'MIN']\n",
    "    for col in temp_cols:\n",
    "        gsod_df.loc[gsod_df[col].isin([9999.9, 999.9]), col] = np.nan\n",
    "        gsod_df[f\"{col}_C\"] = (gsod_df[col] - 32) * 5 / 9\n",
    "\n",
    "    # Rainfall (inches → mm)\n",
    "    gsod_df.loc[gsod_df['PRCP'] == 99.99, 'PRCP'] = np.nan\n",
    "    gsod_df['PRCP_mm'] = gsod_df['PRCP'] * 25.4\n",
    "\n",
    "    # Wind Speed (knots → m/s)\n",
    "    wind_cols = ['WDSP', 'MXSPD', 'GUST']\n",
    "    for col in wind_cols:\n",
    "        gsod_df.loc[gsod_df[col] == 999.9, col] = np.nan\n",
    "        gsod_df[f\"{col}_ms\"] = gsod_df[col] * 0.514444\n",
    "\n",
    "    # Pressure (hPa or mb) - keep as-is but replace 9999.9 with NaN\n",
    "    gsod_df.loc[gsod_df['SLP'] == 9999.9, 'SLP'] = np.nan\n",
    "\n",
    "    # DATE to datetime if not already\n",
    "    if 'DATE' in gsod_df.columns:\n",
    "        gsod_df['DATE'] = pd.to_datetime(gsod_df['DATE'], errors='coerce')\n",
    "\n",
    "    return gsod_df\n"
   ]
  },
  {
   "cell_type": "code",
   "execution_count": 16,
   "id": "b08d6905-5194-4102-a9a4-ec399a2bbabd",
   "metadata": {},
   "outputs": [
    {
     "name": "stdout",
     "output_type": "stream",
     "text": [
      "Processing year: 1990\n"
     ]
    },
    {
     "data": {
      "application/vnd.jupyter.widget-view+json": {
       "model_id": "d10b41bb9b65424ebd8721b3856aa62a",
       "version_major": 2,
       "version_minor": 0
      },
      "text/plain": [
       "0it [00:00, ?it/s]"
      ]
     },
     "metadata": {},
     "output_type": "display_data"
    },
    {
     "name": "stdout",
     "output_type": "stream",
     "text": [
      "Processing year: 1991\n"
     ]
    },
    {
     "data": {
      "application/vnd.jupyter.widget-view+json": {
       "model_id": "27bc85006d6b4435b32dfd9c841e2fed",
       "version_major": 2,
       "version_minor": 0
      },
      "text/plain": [
       "0it [00:00, ?it/s]"
      ]
     },
     "metadata": {},
     "output_type": "display_data"
    },
    {
     "name": "stdout",
     "output_type": "stream",
     "text": [
      "Processing year: 1992\n"
     ]
    },
    {
     "data": {
      "application/vnd.jupyter.widget-view+json": {
       "model_id": "12afe3de0247463dae404844dfc9b1c7",
       "version_major": 2,
       "version_minor": 0
      },
      "text/plain": [
       "0it [00:00, ?it/s]"
      ]
     },
     "metadata": {},
     "output_type": "display_data"
    },
    {
     "name": "stdout",
     "output_type": "stream",
     "text": [
      "Processing year: 1993\n"
     ]
    },
    {
     "data": {
      "application/vnd.jupyter.widget-view+json": {
       "model_id": "0e6b5713a7534fc3afa2e12a4136e4a5",
       "version_major": 2,
       "version_minor": 0
      },
      "text/plain": [
       "0it [00:00, ?it/s]"
      ]
     },
     "metadata": {},
     "output_type": "display_data"
    },
    {
     "name": "stdout",
     "output_type": "stream",
     "text": [
      "Processing year: 1994\n"
     ]
    },
    {
     "data": {
      "application/vnd.jupyter.widget-view+json": {
       "model_id": "23283cc92aba4cdba38504130dd31f90",
       "version_major": 2,
       "version_minor": 0
      },
      "text/plain": [
       "0it [00:00, ?it/s]"
      ]
     },
     "metadata": {},
     "output_type": "display_data"
    },
    {
     "name": "stdout",
     "output_type": "stream",
     "text": [
      "Processing year: 1995\n"
     ]
    },
    {
     "data": {
      "application/vnd.jupyter.widget-view+json": {
       "model_id": "3b0a6aba759d4c7488ff152c829b9c6a",
       "version_major": 2,
       "version_minor": 0
      },
      "text/plain": [
       "0it [00:00, ?it/s]"
      ]
     },
     "metadata": {},
     "output_type": "display_data"
    },
    {
     "name": "stdout",
     "output_type": "stream",
     "text": [
      "Processing year: 1996\n"
     ]
    },
    {
     "data": {
      "application/vnd.jupyter.widget-view+json": {
       "model_id": "098e600ca38a4aa5b08a205d7d6d3335",
       "version_major": 2,
       "version_minor": 0
      },
      "text/plain": [
       "0it [00:00, ?it/s]"
      ]
     },
     "metadata": {},
     "output_type": "display_data"
    },
    {
     "name": "stdout",
     "output_type": "stream",
     "text": [
      "Processing year: 1997\n"
     ]
    },
    {
     "data": {
      "application/vnd.jupyter.widget-view+json": {
       "model_id": "39627b9bd65642758a808ae68de118a4",
       "version_major": 2,
       "version_minor": 0
      },
      "text/plain": [
       "0it [00:00, ?it/s]"
      ]
     },
     "metadata": {},
     "output_type": "display_data"
    },
    {
     "name": "stdout",
     "output_type": "stream",
     "text": [
      "Processing year: 1998\n"
     ]
    },
    {
     "data": {
      "application/vnd.jupyter.widget-view+json": {
       "model_id": "28445783832144a29c148b40b49011cc",
       "version_major": 2,
       "version_minor": 0
      },
      "text/plain": [
       "0it [00:00, ?it/s]"
      ]
     },
     "metadata": {},
     "output_type": "display_data"
    },
    {
     "name": "stdout",
     "output_type": "stream",
     "text": [
      "Processing year: 1999\n"
     ]
    },
    {
     "data": {
      "application/vnd.jupyter.widget-view+json": {
       "model_id": "75d345e88f7343929df59b32ef3ed256",
       "version_major": 2,
       "version_minor": 0
      },
      "text/plain": [
       "0it [00:00, ?it/s]"
      ]
     },
     "metadata": {},
     "output_type": "display_data"
    },
    {
     "name": "stdout",
     "output_type": "stream",
     "text": [
      "Processing year: 2000\n"
     ]
    },
    {
     "data": {
      "application/vnd.jupyter.widget-view+json": {
       "model_id": "23d3215349a948db886fc72610ede651",
       "version_major": 2,
       "version_minor": 0
      },
      "text/plain": [
       "0it [00:00, ?it/s]"
      ]
     },
     "metadata": {},
     "output_type": "display_data"
    },
    {
     "name": "stdout",
     "output_type": "stream",
     "text": [
      "Processing year: 2001\n"
     ]
    },
    {
     "data": {
      "application/vnd.jupyter.widget-view+json": {
       "model_id": "49a90a7a9df34dabbbff78b53fdd24c2",
       "version_major": 2,
       "version_minor": 0
      },
      "text/plain": [
       "0it [00:00, ?it/s]"
      ]
     },
     "metadata": {},
     "output_type": "display_data"
    },
    {
     "name": "stdout",
     "output_type": "stream",
     "text": [
      "Processing year: 2002\n"
     ]
    },
    {
     "data": {
      "application/vnd.jupyter.widget-view+json": {
       "model_id": "2402682aa7d44d9e92a59c1cf4c6943c",
       "version_major": 2,
       "version_minor": 0
      },
      "text/plain": [
       "0it [00:00, ?it/s]"
      ]
     },
     "metadata": {},
     "output_type": "display_data"
    },
    {
     "name": "stdout",
     "output_type": "stream",
     "text": [
      "Processing year: 2003\n"
     ]
    },
    {
     "data": {
      "application/vnd.jupyter.widget-view+json": {
       "model_id": "53a96dc664454fc7b9f32ce75a9cf193",
       "version_major": 2,
       "version_minor": 0
      },
      "text/plain": [
       "0it [00:00, ?it/s]"
      ]
     },
     "metadata": {},
     "output_type": "display_data"
    },
    {
     "name": "stdout",
     "output_type": "stream",
     "text": [
      "Processing year: 2004\n"
     ]
    },
    {
     "data": {
      "application/vnd.jupyter.widget-view+json": {
       "model_id": "3d37dd64f2fc42708d83ab0bf8f5d1b0",
       "version_major": 2,
       "version_minor": 0
      },
      "text/plain": [
       "0it [00:00, ?it/s]"
      ]
     },
     "metadata": {},
     "output_type": "display_data"
    },
    {
     "name": "stdout",
     "output_type": "stream",
     "text": [
      "Processing year: 2005\n"
     ]
    },
    {
     "data": {
      "application/vnd.jupyter.widget-view+json": {
       "model_id": "684e5dfe8a9a4ad8910f0ea34603983a",
       "version_major": 2,
       "version_minor": 0
      },
      "text/plain": [
       "0it [00:00, ?it/s]"
      ]
     },
     "metadata": {},
     "output_type": "display_data"
    },
    {
     "name": "stdout",
     "output_type": "stream",
     "text": [
      "Processing year: 2006\n"
     ]
    },
    {
     "data": {
      "application/vnd.jupyter.widget-view+json": {
       "model_id": "35e8129ac47a4857b2a6294bdf8d88e9",
       "version_major": 2,
       "version_minor": 0
      },
      "text/plain": [
       "0it [00:00, ?it/s]"
      ]
     },
     "metadata": {},
     "output_type": "display_data"
    },
    {
     "name": "stdout",
     "output_type": "stream",
     "text": [
      "Processing year: 2007\n"
     ]
    },
    {
     "data": {
      "application/vnd.jupyter.widget-view+json": {
       "model_id": "4f03d5d3319c4831ba22d8dad7a3088c",
       "version_major": 2,
       "version_minor": 0
      },
      "text/plain": [
       "0it [00:00, ?it/s]"
      ]
     },
     "metadata": {},
     "output_type": "display_data"
    },
    {
     "name": "stdout",
     "output_type": "stream",
     "text": [
      "Processing year: 2008\n"
     ]
    },
    {
     "data": {
      "application/vnd.jupyter.widget-view+json": {
       "model_id": "e0f90ec1d8f647089e26452faf50105c",
       "version_major": 2,
       "version_minor": 0
      },
      "text/plain": [
       "0it [00:00, ?it/s]"
      ]
     },
     "metadata": {},
     "output_type": "display_data"
    },
    {
     "name": "stdout",
     "output_type": "stream",
     "text": [
      "Processing year: 2009\n"
     ]
    },
    {
     "data": {
      "application/vnd.jupyter.widget-view+json": {
       "model_id": "540cdd831b0f433cb828a6ba23008b0c",
       "version_major": 2,
       "version_minor": 0
      },
      "text/plain": [
       "0it [00:00, ?it/s]"
      ]
     },
     "metadata": {},
     "output_type": "display_data"
    },
    {
     "name": "stdout",
     "output_type": "stream",
     "text": [
      "Processing year: 2010\n"
     ]
    },
    {
     "data": {
      "application/vnd.jupyter.widget-view+json": {
       "model_id": "ac0d79165c794959af06e2b8ba080c53",
       "version_major": 2,
       "version_minor": 0
      },
      "text/plain": [
       "0it [00:00, ?it/s]"
      ]
     },
     "metadata": {},
     "output_type": "display_data"
    },
    {
     "name": "stdout",
     "output_type": "stream",
     "text": [
      "Processing year: 2011\n"
     ]
    },
    {
     "data": {
      "application/vnd.jupyter.widget-view+json": {
       "model_id": "f1346a623e1c41c290832a3238c0363a",
       "version_major": 2,
       "version_minor": 0
      },
      "text/plain": [
       "0it [00:00, ?it/s]"
      ]
     },
     "metadata": {},
     "output_type": "display_data"
    },
    {
     "name": "stdout",
     "output_type": "stream",
     "text": [
      "Processing year: 2012\n"
     ]
    },
    {
     "data": {
      "application/vnd.jupyter.widget-view+json": {
       "model_id": "4fd4a2265e9d4bb7944aa05f6ffa12a2",
       "version_major": 2,
       "version_minor": 0
      },
      "text/plain": [
       "0it [00:00, ?it/s]"
      ]
     },
     "metadata": {},
     "output_type": "display_data"
    },
    {
     "name": "stdout",
     "output_type": "stream",
     "text": [
      "Processing year: 2013\n"
     ]
    },
    {
     "data": {
      "application/vnd.jupyter.widget-view+json": {
       "model_id": "af0d793ddbb249288eabebcf1a11e843",
       "version_major": 2,
       "version_minor": 0
      },
      "text/plain": [
       "0it [00:00, ?it/s]"
      ]
     },
     "metadata": {},
     "output_type": "display_data"
    },
    {
     "name": "stdout",
     "output_type": "stream",
     "text": [
      "Processing year: 2014\n"
     ]
    },
    {
     "data": {
      "application/vnd.jupyter.widget-view+json": {
       "model_id": "ede6fb1020fd42608e3fda9be0a56682",
       "version_major": 2,
       "version_minor": 0
      },
      "text/plain": [
       "0it [00:00, ?it/s]"
      ]
     },
     "metadata": {},
     "output_type": "display_data"
    },
    {
     "name": "stdout",
     "output_type": "stream",
     "text": [
      "Processing year: 2015\n"
     ]
    },
    {
     "data": {
      "application/vnd.jupyter.widget-view+json": {
       "model_id": "3f73b77215474d8694f58f4c487fc65e",
       "version_major": 2,
       "version_minor": 0
      },
      "text/plain": [
       "0it [00:00, ?it/s]"
      ]
     },
     "metadata": {},
     "output_type": "display_data"
    },
    {
     "name": "stdout",
     "output_type": "stream",
     "text": [
      "Processing year: 2016\n"
     ]
    },
    {
     "data": {
      "application/vnd.jupyter.widget-view+json": {
       "model_id": "a3f5e5311df143069620dcfe70de9c9c",
       "version_major": 2,
       "version_minor": 0
      },
      "text/plain": [
       "0it [00:00, ?it/s]"
      ]
     },
     "metadata": {},
     "output_type": "display_data"
    },
    {
     "name": "stdout",
     "output_type": "stream",
     "text": [
      "Processing year: 2017\n"
     ]
    },
    {
     "data": {
      "application/vnd.jupyter.widget-view+json": {
       "model_id": "f4b92e1e4e814b85b228a678f6d9c227",
       "version_major": 2,
       "version_minor": 0
      },
      "text/plain": [
       "0it [00:00, ?it/s]"
      ]
     },
     "metadata": {},
     "output_type": "display_data"
    },
    {
     "name": "stdout",
     "output_type": "stream",
     "text": [
      "Processing year: 2018\n"
     ]
    },
    {
     "data": {
      "application/vnd.jupyter.widget-view+json": {
       "model_id": "f1281071c0de4a4b86cb1a082068b7cb",
       "version_major": 2,
       "version_minor": 0
      },
      "text/plain": [
       "0it [00:00, ?it/s]"
      ]
     },
     "metadata": {},
     "output_type": "display_data"
    },
    {
     "name": "stdout",
     "output_type": "stream",
     "text": [
      "Processing year: 2019\n"
     ]
    },
    {
     "data": {
      "application/vnd.jupyter.widget-view+json": {
       "model_id": "977de54a8a80471b932f7d12ae77d1f1",
       "version_major": 2,
       "version_minor": 0
      },
      "text/plain": [
       "0it [00:00, ?it/s]"
      ]
     },
     "metadata": {},
     "output_type": "display_data"
    },
    {
     "name": "stdout",
     "output_type": "stream",
     "text": [
      "Processing year: 2020\n"
     ]
    },
    {
     "data": {
      "application/vnd.jupyter.widget-view+json": {
       "model_id": "df762c1d037645719f2b2c0b81be122c",
       "version_major": 2,
       "version_minor": 0
      },
      "text/plain": [
       "0it [00:00, ?it/s]"
      ]
     },
     "metadata": {},
     "output_type": "display_data"
    },
    {
     "name": "stdout",
     "output_type": "stream",
     "text": [
      "Processing year: 2021\n"
     ]
    },
    {
     "data": {
      "application/vnd.jupyter.widget-view+json": {
       "model_id": "57dd2ce77b31468092733ac9f777b163",
       "version_major": 2,
       "version_minor": 0
      },
      "text/plain": [
       "0it [00:00, ?it/s]"
      ]
     },
     "metadata": {},
     "output_type": "display_data"
    },
    {
     "name": "stdout",
     "output_type": "stream",
     "text": [
      "Processing year: 2022\n"
     ]
    },
    {
     "data": {
      "application/vnd.jupyter.widget-view+json": {
       "model_id": "e249ec49a6fe4da8892548aed3cf6b55",
       "version_major": 2,
       "version_minor": 0
      },
      "text/plain": [
       "0it [00:00, ?it/s]"
      ]
     },
     "metadata": {},
     "output_type": "display_data"
    },
    {
     "name": "stdout",
     "output_type": "stream",
     "text": [
      "Processing year: 2023\n"
     ]
    },
    {
     "data": {
      "application/vnd.jupyter.widget-view+json": {
       "model_id": "af1d4a889202488695bf3657e5a4ab56",
       "version_major": 2,
       "version_minor": 0
      },
      "text/plain": [
       "0it [00:00, ?it/s]"
      ]
     },
     "metadata": {},
     "output_type": "display_data"
    },
    {
     "name": "stdout",
     "output_type": "stream",
     "text": [
      "Processing year: 2024\n"
     ]
    },
    {
     "data": {
      "application/vnd.jupyter.widget-view+json": {
       "model_id": "e46691a780804231bf465c2292be3741",
       "version_major": 2,
       "version_minor": 0
      },
      "text/plain": [
       "0it [00:00, ?it/s]"
      ]
     },
     "metadata": {},
     "output_type": "display_data"
    }
   ],
   "source": [
    "\n",
    "\n",
    "# Load Philippine station list\n",
    "stations_ph = pd.read_csv('isd-history-ph.csv', dtype=str)\n",
    "\n",
    "# Create combined identifier column\n",
    "stations_ph['USAF_WBAN'] = stations_ph['USAF'].str.strip() + stations_ph['WBAN'].str.strip()\n",
    "station_ids_ph = set(stations_ph['USAF_WBAN'].values)\n",
    "\n",
    "# Output folder\n",
    "output_dir = Path('./gsod_ph_cleaned')\n",
    "output_dir.mkdir(exist_ok=True)\n",
    "\n",
    "# Loop through years and files\n",
    "base_dir = Path.home() / 'data' / 'gsod' / 'csv'\n",
    "\n",
    "# # for year_folder in sorted(base_dir.glob('20*')):\n",
    "# for year in range(1990, 2025):\n",
    "#     year_folder = base_dir / str(year)\n",
    "#     print(f\"Processing year: {year_folder.name}\")\n",
    "\n",
    "#     for file_path in tqdm(year_folder.glob('*.csv')):\n",
    "#         file_name = file_path.stem  # Example: '98427099999'\n",
    "#         if file_name not in station_ids_ph:\n",
    "#             continue  # Skip non-Philippine stations\n",
    "\n",
    "#         # Process file\n",
    "#         df = pd.read_csv(file_path)\n",
    "        \n",
    "#         # Apply your formatting functions here:\n",
    "#         df = format_gsod_full(df)\n",
    "#         # Add rainfall formatter here as well\n",
    "\n",
    "#         # Save cleaned version\n",
    "#         out_file = output_dir / f\"{year_folder.name}_{file_name}.parquet\"\n",
    "#         df.to_parquet(out_file, index=False)\n",
    "\n",
    "\n",
    "for year in range(1990, 2025):\n",
    "    year_folder = base_dir / str(year)\n",
    "    print(f\"Processing year: {year_folder.name}\")\n",
    "\n",
    "    for file_path in tqdm(year_folder.glob('*.csv')):\n",
    "        file_name = file_path.stem  # Example: '98427099999'\n",
    "        if file_name not in station_ids_ph:\n",
    "            continue  # Skip non-Philippine stations\n",
    "\n",
    "        # Process file\n",
    "        df = pd.read_csv(file_path)\n",
    "\n",
    "        # Apply your formatting functions here:\n",
    "        df = format_gsod_full(df)\n",
    "\n",
    "        # ⬇️ Insert station metadata here ⬇️\n",
    "        usaf = file_name[:6]\n",
    "        wban = file_name[6:]\n",
    "        station_meta = stations_ph[\n",
    "            (stations_ph['USAF'].str.strip() == usaf) & \n",
    "            (stations_ph['WBAN'].str.strip() == wban)\n",
    "        ].iloc[0]\n",
    "\n",
    "        df['station_id'] = file_name\n",
    "        df['station_name'] = station_meta['STATION NAME']\n",
    "        df['lat'] = float(station_meta['LAT']) if pd.notnull(station_meta['LAT']) else None\n",
    "        df['lon'] = float(station_meta['LON']) if pd.notnull(station_meta['LON']) else None\n",
    "        df['elevation_m'] = float(station_meta['ELEV(M)']) if pd.notnull(station_meta['ELEV(M)']) else None\n",
    "        # ⬆️ Metadata insertion ends here ⬆️\n",
    "\n",
    "        # Save cleaned version\n",
    "        out_file = output_dir / f\"{year_folder.name}_{file_name}.parquet\"\n",
    "        df.to_parquet(out_file, index=False)\n"
   ]
  }
 ],
 "metadata": {
  "kernelspec": {
   "display_name": "Geo Research",
   "language": "python",
   "name": "geo-research"
  },
  "language_info": {
   "codemirror_mode": {
    "name": "ipython",
    "version": 3
   },
   "file_extension": ".py",
   "mimetype": "text/x-python",
   "name": "python",
   "nbconvert_exporter": "python",
   "pygments_lexer": "ipython3",
   "version": "3.10.18"
  }
 },
 "nbformat": 4,
 "nbformat_minor": 5
}
